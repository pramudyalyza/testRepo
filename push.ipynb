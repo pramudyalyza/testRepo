{
 "cells": [
  {
   "cell_type": "code",
   "execution_count": 4,
   "metadata": {},
   "outputs": [],
   "source": [
    "import git\n",
    "import os"
   ]
  },
  {
   "cell_type": "code",
   "execution_count": null,
   "metadata": {},
   "outputs": [],
   "source": [
    "local_repo_path = 'C:/Users/Alyza/Documents/Dummy/testRepo'  # Replace with the local path where the repo is already cloned\n",
    "csv_file_path = 'C:/Users/Alyza/Documents/Dummy/TestFile.csv'  # Path to your new CSV file\n",
    "\n",
    "# Open the already cloned repository\n",
    "repo = git.Repo(local_repo_path)\n",
    "\n",
    "# Pull the latest changes from GitHub to stay up-to-date\n",
    "repo.git.pull()\n",
    "\n",
    "# Move or copy the new CSV file to the repository folder\n",
    "os.system(f'cp {csv_file_path} {local_repo_path}')  # Or use shutil.copy() for more control\n",
    "\n",
    "# Add the new file, commit, and push\n",
    "repo.git.add('--all')  # Stage all changes (new file)\n",
    "repo.index.commit('Update CSV file for today')  # Commit the changes with a message\n",
    "origin = repo.remote(name='origin')\n",
    "origin.push()  # Push the changes to GitHub\n",
    "\n",
    "print(\"Daily CSV file pushed to GitHub successfully.\")"
   ]
  }
 ],
 "metadata": {
  "kernelspec": {
   "display_name": "Python 3",
   "language": "python",
   "name": "python3"
  },
  "language_info": {
   "codemirror_mode": {
    "name": "ipython",
    "version": 3
   },
   "file_extension": ".py",
   "mimetype": "text/x-python",
   "name": "python",
   "nbconvert_exporter": "python",
   "pygments_lexer": "ipython3",
   "version": "3.10.0"
  }
 },
 "nbformat": 4,
 "nbformat_minor": 2
}
