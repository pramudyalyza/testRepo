{
 "cells": [
  {
   "cell_type": "code",
   "execution_count": 6,
   "metadata": {},
   "outputs": [],
   "source": [
    "import git\n",
    "import os\n",
    "import shutil"
   ]
  },
  {
   "cell_type": "code",
   "execution_count": 5,
   "metadata": {},
   "outputs": [
    {
     "name": "stdout",
     "output_type": "stream",
     "text": [
      "Daily CSV file pushed to GitHub successfully.\n"
     ]
    }
   ],
   "source": [
    "# Variables\n",
    "local_repo_path = 'C:/Users/Alyza/Documents/Dummy/testRepo'  # Replace with the local path where the repo is already cloned\n",
    "csv_file_path = 'C:/Users/Alyza/Documents/Dummy/TestFile.csv'  # Path to your new CSV file\n",
    "\n",
    "# Open the already cloned repository\n",
    "repo = git.Repo(local_repo_path)\n",
    "\n",
    "# # Pull the latest changes from GitHub to stay up-to-date\n",
    "# repo.git.pull()\n",
    "\n",
    "# Copy the new CSV file to the repository folder\n",
    "destination_file_path = os.path.join(local_repo_path, os.path.basename(csv_file_path))\n",
    "shutil.copy(csv_file_path, destination_file_path)  # Use shutil.copy() to copy the file\n",
    "\n",
    "# Add the new file, commit, and push\n",
    "repo.git.add('--all')  # Stage all changes (new file)\n",
    "repo.index.commit('Update CSV file for today')  # Commit the changes with a message\n",
    "origin = repo.remote(name='origin')\n",
    "origin.push()  # Push the changes to GitHub\n",
    "\n",
    "print(f\"CSV file pushed to GitHub successfully at {destination_file_path}.\")"
   ]
  }
 ],
 "metadata": {
  "kernelspec": {
   "display_name": "Python 3",
   "language": "python",
   "name": "python3"
  },
  "language_info": {
   "codemirror_mode": {
    "name": "ipython",
    "version": 3
   },
   "file_extension": ".py",
   "mimetype": "text/x-python",
   "name": "python",
   "nbconvert_exporter": "python",
   "pygments_lexer": "ipython3",
   "version": "3.10.0"
  }
 },
 "nbformat": 4,
 "nbformat_minor": 2
}
